{
  "nbformat": 4,
  "nbformat_minor": 0,
  "metadata": {
    "colab": {
      "provenance": [],
      "authorship_tag": "ABX9TyMPqS/VXs4pB9qohX61nWmB",
      "include_colab_link": true
    },
    "kernelspec": {
      "name": "python3",
      "display_name": "Python 3"
    },
    "language_info": {
      "name": "python"
    }
  },
  "cells": [
    {
      "cell_type": "markdown",
      "metadata": {
        "id": "view-in-github",
        "colab_type": "text"
      },
      "source": [
        "<a href=\"https://colab.research.google.com/github/bogdanbanu/python-algorithmic-trading/blob/main/testanddelete.ipynb\" target=\"_parent\"><img src=\"https://colab.research.google.com/assets/colab-badge.svg\" alt=\"Open In Colab\"/></a>"
      ]
    },
    {
      "cell_type": "code",
      "source": [
        "import pandas as pd\n",
        "import numpy as np\n",
        "import matplotlib.pyplot as plt\n",
        "import seaborn as sns\n",
        "import datetime as dt\n",
        "from datetime import datetime, timedelta, timezone\n",
        "import dateutil as du\n",
        "import plotly.express as px"
      ],
      "metadata": {
        "id": "6MV_9AbTjgtP"
      },
      "execution_count": 1,
      "outputs": []
    },
    {
      "cell_type": "code",
      "source": [
        "# prompt: import a seaborn dataset\n",
        "\n",
        "data = sns.load_dataset('titanic')\n"
      ],
      "metadata": {
        "id": "k1cyOSFHQTI0"
      },
      "execution_count": 4,
      "outputs": []
    },
    {
      "cell_type": "code",
      "source": [
        "ET = timezone"
      ],
      "metadata": {
        "id": "KpXguvTTQbiQ"
      },
      "execution_count": null,
      "outputs": []
    }
  ]
}